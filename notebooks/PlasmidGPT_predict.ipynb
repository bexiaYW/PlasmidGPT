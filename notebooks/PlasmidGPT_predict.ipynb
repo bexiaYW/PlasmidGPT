{
 "cells": [
  {
   "cell_type": "code",
   "execution_count": 1,
   "id": "eb6442de-e868-4eae-8f6c-d8112ad9f832",
   "metadata": {
    "scrolled": true
   },
   "outputs": [
    {
     "name": "stdout",
     "output_type": "stream",
     "text": [
      "--2024-10-05 07:52:11--  https://huggingface.co/lingxusb/PlasmidGPT/resolve/main/embedding_prediction_labs.pth\n",
      "Resolving huggingface.co (huggingface.co)... 3.164.110.114, 3.164.110.77, 3.164.110.3, ...\n",
      "Connecting to huggingface.co (huggingface.co)|3.164.110.114|:443... connected.\n",
      "HTTP request sent, awaiting response... 302 Found\n",
      "Location: https://cdn-lfs-us-1.hf.co/repos/39/1b/391b3344dcaf5b835fcc8bdaa650824a769edb190566148b45b4de13176e8be8/1466554a6485bd7a5cc9c951d7d2c109f84c3cfe2a21322f826eb9621c274f22?response-content-disposition=inline%3B+filename*%3DUTF-8%27%27embedding_prediction_labs.pth%3B+filename%3D%22embedding_prediction_labs.pth%22%3B&Expires=1728373931&Policy=eyJTdGF0ZW1lbnQiOlt7IkNvbmRpdGlvbiI6eyJEYXRlTGVzc1RoYW4iOnsiQVdTOkVwb2NoVGltZSI6MTcyODM3MzkzMX19LCJSZXNvdXJjZSI6Imh0dHBzOi8vY2RuLWxmcy11cy0xLmhmLmNvL3JlcG9zLzM5LzFiLzM5MWIzMzQ0ZGNhZjViODM1ZmNjOGJkYWE2NTA4MjRhNzY5ZWRiMTkwNTY2MTQ4YjQ1YjRkZTEzMTc2ZThiZTgvMTQ2NjU1NGE2NDg1YmQ3YTVjYzljOTUxZDdkMmMxMDlmODRjM2NmZTJhMjEzMjJmODI2ZWI5NjIxYzI3NGYyMj9yZXNwb25zZS1jb250ZW50LWRpc3Bvc2l0aW9uPSoifV19&Signature=ZP5jp-rB7NmAkNhP6xs2IE7UQQXp2Vh7uyy2M7qd19oPPMKFzNzb900kg-ir4E6rIEeSZbXthw8mN-vgRsKxlTK5ujZ7ZpkaLbfyZ5t7hTfMg-rt1zZU10dskgDYRhVNbP3-VaJ2Ew3Om1LpYHSvONkEDj4vtFD0ly7Np6HH1w9IY8IxnJZuo69Bj4kafYLK36oaUV%7E%7EH4upvlGXn%7EbsYdAyM2PZQO8ECR9KqI3ItCm9GOmYzS%7EGcikDAD6VJYR5EtVIK51kWT87oc5kM3Jz0NTvCfHj9q01k%7EbdKhyJyoxDehpL-XtTz2Cx2JYeAjJkzXRXmtRGye9f5UNzaItfGw__&Key-Pair-Id=K24J24Z295AEI9 [following]\n",
      "--2024-10-05 07:52:11--  https://cdn-lfs-us-1.hf.co/repos/39/1b/391b3344dcaf5b835fcc8bdaa650824a769edb190566148b45b4de13176e8be8/1466554a6485bd7a5cc9c951d7d2c109f84c3cfe2a21322f826eb9621c274f22?response-content-disposition=inline%3B+filename*%3DUTF-8%27%27embedding_prediction_labs.pth%3B+filename%3D%22embedding_prediction_labs.pth%22%3B&Expires=1728373931&Policy=eyJTdGF0ZW1lbnQiOlt7IkNvbmRpdGlvbiI6eyJEYXRlTGVzc1RoYW4iOnsiQVdTOkVwb2NoVGltZSI6MTcyODM3MzkzMX19LCJSZXNvdXJjZSI6Imh0dHBzOi8vY2RuLWxmcy11cy0xLmhmLmNvL3JlcG9zLzM5LzFiLzM5MWIzMzQ0ZGNhZjViODM1ZmNjOGJkYWE2NTA4MjRhNzY5ZWRiMTkwNTY2MTQ4YjQ1YjRkZTEzMTc2ZThiZTgvMTQ2NjU1NGE2NDg1YmQ3YTVjYzljOTUxZDdkMmMxMDlmODRjM2NmZTJhMjEzMjJmODI2ZWI5NjIxYzI3NGYyMj9yZXNwb25zZS1jb250ZW50LWRpc3Bvc2l0aW9uPSoifV19&Signature=ZP5jp-rB7NmAkNhP6xs2IE7UQQXp2Vh7uyy2M7qd19oPPMKFzNzb900kg-ir4E6rIEeSZbXthw8mN-vgRsKxlTK5ujZ7ZpkaLbfyZ5t7hTfMg-rt1zZU10dskgDYRhVNbP3-VaJ2Ew3Om1LpYHSvONkEDj4vtFD0ly7Np6HH1w9IY8IxnJZuo69Bj4kafYLK36oaUV%7E%7EH4upvlGXn%7EbsYdAyM2PZQO8ECR9KqI3ItCm9GOmYzS%7EGcikDAD6VJYR5EtVIK51kWT87oc5kM3Jz0NTvCfHj9q01k%7EbdKhyJyoxDehpL-XtTz2Cx2JYeAjJkzXRXmtRGye9f5UNzaItfGw__&Key-Pair-Id=K24J24Z295AEI9\n",
      "Resolving cdn-lfs-us-1.hf.co (cdn-lfs-us-1.hf.co)... 18.64.123.31, 18.64.123.79, 18.64.123.43, ...\n",
      "Connecting to cdn-lfs-us-1.hf.co (cdn-lfs-us-1.hf.co)|18.64.123.31|:443... connected.\n",
      "HTTP request sent, awaiting response... 200 OK\n",
      "Length: 884747 (864K) [binary/octet-stream]\n",
      "Saving to: ‘embedding_prediction_labs.pth’\n",
      "\n",
      "embedding_predictio 100%[===================>] 864.01K  --.-KB/s    in 0.01s   \n",
      "\n",
      "2024-10-05 07:52:12 (65.6 MB/s) - ‘embedding_prediction_labs.pth’ saved [884747/884747]\n",
      "\n",
      "--2024-10-05 07:52:12--  https://huggingface.co/lingxusb/PlasmidGPT/resolve/main/lab_list.txt\n",
      "Resolving huggingface.co (huggingface.co)... 3.164.110.114, 3.164.110.77, 3.164.110.3, ...\n",
      "Connecting to huggingface.co (huggingface.co)|3.164.110.114|:443... connected.\n",
      "HTTP request sent, awaiting response... 200 OK\n",
      "Length: 14530 (14K) [text/plain]\n",
      "Saving to: ‘lab_list.txt’\n",
      "\n",
      "lab_list.txt        100%[===================>]  14.19K  --.-KB/s    in 0s      \n",
      "\n",
      "2024-10-05 07:52:12 (307 MB/s) - ‘lab_list.txt’ saved [14530/14530]\n",
      "\n"
     ]
    }
   ],
   "source": [
    "#### download prediction model for lab of origin\n",
    "#### other models can also be found in the prediction_models folder\n",
    "\n",
    "!wget https://huggingface.co/lingxusb/PlasmidGPT/resolve/main/embedding_prediction_labs.pth\n",
    "!wget https://huggingface.co/lingxusb/PlasmidGPT/resolve/main/lab_list.txt"
   ]
  },
  {
   "cell_type": "code",
   "execution_count": 6,
   "id": "88a11cad-2d7f-4520-8173-a7985528411d",
   "metadata": {},
   "outputs": [
    {
     "name": "stdout",
     "output_type": "stream",
     "text": [
      "Model loaded successfully.\n",
      "Default is Addgene plasmid 202306 (https://www.addgene.org/202306/)\n",
      "Using CPU.\n",
      "Finished calculation of embeddings\n",
      "\n"
     ]
    },
    {
     "data": {
      "image/png": "[encoded data removed]",
      "text/plain": [
       "<Figure size 150x150 with 1 Axes>"
      ]
     },
     "metadata": {},
     "output_type": "display_data"
    }
   ],
   "source": [
    "import torch\n",
    "import numpy as np\n",
    "from transformers import PreTrainedTokenizerFast\n",
    "import seaborn as sns\n",
    "import matplotlib.pyplot as plt\n",
    "import torch.nn as nn\n",
    "\n",
    "# Define the input sequence, Addgene plasmid 202306\n",
    "sequence = ('GAATCTCGCGTAGACACATACATGAGCAGCGAAAAGAGGTGGCCAGGGGGATCACCTGGCAGCATGCTGCCTAATAAAAAAGGCCGGAAAATCCGGCCTTTTGACGCTTTAGCTCTGACGGCTCAGTGCTGCCCACAGGCTTTCTTCAACACCGGTCAGCAGTTCATCGGTCAGGCTCAGATAATCGTTCTCGATCATTTCATACACTTCCATAAAGCTGCCAAACAGAATTGCAATCAGTGCATTTTCCGGCAGATTACGAATCACACCCTGTTTCTGACCTTCACGAAAAAAGGTGCACACAAATTCAACCAGTTTCTGATATGCCAGACGGCTTTCTTCGGTCAGAAAGGTGCCCTGGCTATGGGTTTTGATAAAACCCAGTGCACGCGGATGATTTTTGGTAAAGGTCACCATACCTTCAAAAATGTGATGAAAGCCATCACGATAACCATCACGTTCATTTGCCAGACCGCTTTCAATACACTGCAGAAATTCATTAACATGCTGCTGAAACAGTTCGTTCACCAGGCTTTCTTTGTTTTTGAAATAGCGATAAATGGTGCCTGCACCAACTTTTGCATTTTCTGCAATCATCGGCATGGTGGTTGCATCAAAACCACGTTCTGCAAACAGCAGCAGGCTTGCGCTAAAAATTGCTTTCTGTTTGGTCGGGGTGCTTTCCATCCTCCCGGCCTCGTTTGGTTAAACAAAATTATTTGTAGAGGACTGTTTCGGCCCTTTTGGGCCATCGTCAGGTCGGATACACATCCGGCGACAGTCTAATTGTGAGCGCTCACAATTCCACACATTATACGAGCCGATGATTAATTGTCAACACAGCCAACGATCGTTCTCCCAGTACAATCTGCTCTGATGCCCTCGAGTGCGGCCGCACTAGTGTCGACGGAGCTCGAATTCGGATCCGAAGTTCCTATACTTTCTAGAGAATAGGAACTTCGGAATAGGAACTTCTATTTTTATAGGTTAATGTCATGATAATAATGGTTTCTTAGACCATGCCTATTTGTTTATTTTTCTAAATACATTCAAATATGTATCCGCTCATGAGACAATAACCCTGATAAATGCTTCAATAATATTGAAAAAGGAAGAGTATGAGCCATATTCAACGGGAAACGTCTTGCTCTAGGCCGCGATTAAATTCCAACATGGATGCTGATTTATATGGGTATAAATGGGCTCGCGATAATGTCGGGCAATCAGGTGCGACAATCTATCGATTGTATGGGAAGCCCGATGCGCCAGAGTTGTTTCTGAAACATGGCAAAGGTAGCGTTGCCAATGATGTTACAGATGAGATGGTCAGACTAAACTGGCTGACGGAATTTATGCCTCTTCCGACCATCAAGCATTTTATCCGTACTCCTGATGATGCATGGTTACTCACCACTGCGATCCCCGGGAAAACAGCATTCCAGGTATTAGAAGAATATCCTGATTCAGGTGAAAATATTGTTGATGCGCTGGCAGTGTTCCTGCGCCGGTTGCATTCGATTCCTGTTTGTAATTGTCCTTTTAACAGCGACCGCGTATTTCGTCTCGCTCAGGCGCAATCACGAATGAATAACGGTTTGGTTGATGCGAGTGATTTTGATGACGAGCGTAATGGCTGGCCTGTTGAACAAGTCTGGAAAGAAATGCATAAACTTTTGCCATTCTCACCGGATTCAGTCGTCACTCATGGTGATTTCTCACTTGATAACCTTATTTTTGACGAGGGGAAATTAATAGGTTGTATTGATGTTGGACGAGTCGGAATCGCAGACCGATACCAGGATCTTGCCATCCTATGGAACTGCCTCGGTGAGTTTTCTCCTTCATTACAGAAACGGCTTTTTCAAAAATATGGTATTGATAATCCTGATATGAATAAATTGCAGTTTCATTTGATGCTCGATGAGTTTTTCTAAAGCTCGCTTGGACTCCTGTTGATAGATCCAGTAATGACCTCAGAACTCCATCTGGATTTGTTCAGAACGCTCGGTTGCCGCCGGGCGTTTTTTATTGGTGAGAATCCAAGCTTAAGGTATACTTTCCGCTGCATAACCCTGCTTCGGGGTCATTATAGCGATTTTTTCGGTATATCCATCCTTTTTCGCACGATATACAGGATTTTGCCAAAGGGTTCGTGTAGACTTTCCTTGGTGTATCCAACGGCGTCAGCCGGGCAGGATAGGTGAAGTAGGCCCACCCGCGAGCGGGTGTTCCTTCTTCACTGTCCCTTATTCGCACCTGGCGGTGCTCAACGGGAATCCTGCTCTGCGAGGCTGGCCGATAAGCTACAAGAAGATCCGGCCACGATGCGTCCGGCGTAGAGGATCTGAAGATCAGCAGTTCAACCTGTTGATAGTACGTACTAAGCTCTCATGTTTCACGTACTAAGCTCTCATGTTTAACGTACTAAGCTCTCATGTTTAACGAACTAAACCCTCATGGCTAACGTACTAAGCTCTCATGGCTAACGTACTAAGCTCTCATGTTTCACGTACTAAGCTCTCATGTTTGAACAATAAAATTAATATAAATCAGCAACTTAAATAGCCTCTAAGGTTTTAAGTTTTATAAGAAAAAAAAGAATATATAAGGCTTTTAAAGCTTTTAAGGTTTAACGGTTGTGGACAACAAGCCAGGGATGTAACGCACTGAGAAGCCCTTAGAGCCTCTCAAAGCAATTTTGAGTGACACAGGAACACTTAACGGCTGACATGGGAATTAGCCATGGGCCCGTGCGAATCATTTTTACGGTTCCTGGCCTTTTGCTGGCCTTTTGCTCACATGTTCTTTCCTGCGTTATCCCCTGATTCTGTGGATAACCGTATTACCGCCTAGCCAAGAGCAGTGCCTTGCAGAAGTTCTCGGGCGA')\n",
    "\n",
    "# Load the pre-trained model and tokenizer\n",
    "pt_file_path = 'pretrained_model.pt'\n",
    "model = torch.load(pt_file_path)\n",
    "model.eval()\n",
    "print(\"Model loaded successfully.\")\n",
    "\n",
    "tokenizer = PreTrainedTokenizerFast(tokenizer_file='addgene_trained_dna_tokenizer.json')\n",
    "\n",
    "# Add special tokens\n",
    "special_tokens_dict = {'additional_special_tokens': ['[PROMPT]', '[PROMPT2]']}\n",
    "tokenizer.add_special_tokens(special_tokens_dict)\n",
    "\n",
    "# Tokenize the input sequence\n",
    "print(\"Default is Addgene plasmid 202306 (https://www.addgene.org/202306/)\")\n",
    "tokenized_sequences = [[3]*10 + [2] + tokenizer.encode(sequence)]\n",
    "\n",
    "# Set the device (GPU or CPU)\n",
    "device = torch.device(\"cuda\" if torch.cuda.is_available() else \"cpu\")\n",
    "model = model.to(device)\n",
    "print(f\"Using device: {torch.cuda.get_device_name(0)}\" if torch.cuda.is_available() else \"Using CPU.\")\n",
    "\n",
    "# Get embeddings from the model\n",
    "embedding = []\n",
    "for tokenized_seq in tokenized_sequences:\n",
    "    input_ids = torch.tensor([tokenized_seq], dtype=torch.long).to(device)\n",
    "    model.config.output_hidden_states = True\n",
    "\n",
    "    # Inference to obtain hidden states\n",
    "    with torch.no_grad():\n",
    "        outputs = model(input_ids)\n",
    "        hidden_states = outputs.hidden_states[-1].cpu().numpy()\n",
    "        hidden_states_mean = np.mean(hidden_states, axis=1).reshape(-1)\n",
    "        embedding.append(hidden_states_mean)\n",
    "\n",
    "embedding = np.array(embedding)\n",
    "print(\"Finished calculation of embeddings\\n\")\n",
    "\n",
    "# Load the neural network for prediction\n",
    "class SimpleNN(nn.Module):\n",
    "    def __init__(self, input_dim, num_classes):\n",
    "        super(SimpleNN, self).__init__()\n",
    "        self.fc1 = nn.Linear(input_dim, 128)\n",
    "        self.relu = nn.ReLU()\n",
    "        self.fc2 = nn.Linear(128, num_classes)\n",
    "\n",
    "    def forward(self, x):\n",
    "        x = self.fc1(x)\n",
    "        x = self.relu(x)\n",
    "        x = self.fc2(x)\n",
    "        return x\n",
    "\n",
    "# number of unique lab labels is 948\n",
    "num_classes = 948\n",
    "input_dim = 768\n",
    "model_path = \"embedding_prediction_labs.pth\"\n",
    "list_file_name = 'lab_list.txt'\n",
    "\n",
    "model_NN = SimpleNN(input_dim, num_classes).to(device)\n",
    "model_NN.load_state_dict(torch.load(model_path, map_location=device))\n",
    "model_NN.eval()\n",
    "\n",
    "# Perform inference\n",
    "X_data = torch.tensor([embedding[0]], dtype=torch.float32).to(device)\n",
    "output = model_NN(X_data)\n",
    "\n",
    "# Calculate probabilities using softmax\n",
    "probs = torch.nn.functional.softmax(output, dim=1).detach().cpu().numpy()[0]\n",
    "\n",
    "# Load labels\n",
    "lab_list = []\n",
    "with open(list_file_name, 'r') as file:\n",
    "    lab_list = [line.strip() for line in file]\n",
    "\n",
    "lab_list = np.array(lab_list)\n",
    "\n",
    "# Get top 10 predictions\n",
    "prob_idx = np.argsort(probs)[::-1][:10]\n",
    "top_probs = probs[prob_idx]\n",
    "top_labels = lab_list[prob_idx]\n",
    "\n",
    "# Plot the top 10 predicted labels\n",
    "plt.figure(figsize=(1.5, 1.5))\n",
    "sns.barplot(x=top_probs, y=top_labels, orient='h')\n",
    "plt.xlabel('Probability', fontsize = 7)\n",
    "plt.xticks(fontsize=7)\n",
    "plt.yticks(fontsize=7)\n",
    "plt.title(\"Origin of lab prediction\", fontsize = 7)\n",
    "\n",
    "plt.xlim([0, 1])\n",
    "plt.show()"
   ]
  },
  {
   "cell_type": "code",
   "execution_count": null,
   "id": "95d58759-57e0-4887-97bd-958e5b2119f9",
   "metadata": {},
   "outputs": [],
   "source": []
  }
 ],
 "metadata": {
  "kernelspec": {
   "display_name": "Python 3 (ipykernel)",
   "language": "python",
   "name": "python3"
  },
  "language_info": {
   "codemirror_mode": {
    "name": "ipython",
    "version": 3
   },
   "file_extension": ".py",
   "mimetype": "text/x-python",
   "name": "python",
   "nbconvert_exporter": "python",
   "pygments_lexer": "ipython3",
   "version": "3.10.13"
  }
 },
 "nbformat": 4,
 "nbformat_minor": 5
}
